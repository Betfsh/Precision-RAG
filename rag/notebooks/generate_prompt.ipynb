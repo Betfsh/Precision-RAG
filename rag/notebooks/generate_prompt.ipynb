{
 "cells": [
  {
   "cell_type": "markdown",
   "id": "02a2254f-be62-4a5d-a7c1-3357e09f6b90",
   "metadata": {},
   "source": [
    "### Import packages"
   ]
  },
  {
   "cell_type": "code",
   "execution_count": null,
   "id": "33a2d543-3858-4475-b5e2-60e8161e1947",
   "metadata": {},
   "outputs": [],
   "source": [
    "import os\n",
    "import sys\n",
    "from dotenv import load_dotenv,find_dotenv\n",
    "sys.path.append(os.path.abspath(os.path.join('../utility')))"
   ]
  },
  {
   "cell_type": "code",
   "execution_count": null,
   "id": "399594ae-0f2c-4bbd-ad82-2d20a9a8aa8d",
   "metadata": {},
   "outputs": [],
   "source": [
    "from rag_utils import data_loader, create_langchain_pipeline, create_retriever"
   ]
  },
  {
   "cell_type": "markdown",
   "id": "71053cdb-dd9e-4932-b607-2cc0c55b6757",
   "metadata": {},
   "source": [
    "##### Load OPENAI key"
   ]
  },
  {
   "cell_type": "code",
   "execution_count": null,
   "id": "f8c6172a-238d-48fd-9073-4e58bc3ba153",
   "metadata": {},
   "outputs": [],
   "source": [
    "# Load OpenAI API key from .env file\n",
    "load_dotenv(find_dotenv())"
   ]
  },
  {
   "cell_type": "markdown",
   "id": "c390d741-ac38-4f01-972a-69b7012c4bef",
   "metadata": {},
   "source": [
    "##### Load data"
   ]
  },
  {
   "cell_type": "code",
   "execution_count": null,
   "id": "2e6789d3-806b-422f-bc29-af406316a865",
   "metadata": {},
   "outputs": [],
   "source": [
    "chunks = data_loader()"
   ]
  },
  {
   "cell_type": "markdown",
   "id": "7a1ac161-3530-4f28-aab6-a6a25de96403",
   "metadata": {},
   "source": [
    "#### create retriever"
   ]
  },
  {
   "cell_type": "code",
   "execution_count": null,
   "id": "da751a7c-83ce-41ee-97e9-01af9fc6811a",
   "metadata": {},
   "outputs": [],
   "source": [
    "retriever = create_retriever(chunks)\n",
    "retriever"
   ]
  },
  {
   "cell_type": "raw",
   "id": "c16a7ee8-d51c-47aa-a943-9c442ca80988",
   "metadata": {},
   "source": [
    "# Specify the path to your .txt file\n",
    "file_path = '../prompts/prompt-generation-prompt.txt'\n",
    "\n",
    "# Open the file in read mode\n",
    "with open(file_path, 'r') as file:\n",
    "    # Read the contents of the file\n",
    "    file_contents = file.read()"
   ]
  },
  {
   "cell_type": "code",
   "execution_count": null,
   "id": "9caaf1c4-3d36-432c-95c1-4ba3e9ac596e",
   "metadata": {},
   "outputs": [],
   "source": [
    "rag_chain = create_langchain_pipeline(retriever, file_contents)"
   ]
  },
  {
   "cell_type": "code",
   "execution_count": null,
   "id": "8a9936b6-a3e8-4308-8888-6985fa3d9afe",
   "metadata": {},
   "outputs": [],
   "source": [
    "rag_chain"
   ]
  },
  {
   "cell_type": "code",
   "execution_count": null,
   "id": "bd516e7c-2fff-4e3f-8781-7e206c9c3c7f",
   "metadata": {},
   "outputs": [],
   "source": [
    "generated_prompts = rag_chain.invoke(\"questions about the challenge documnet\")"
   ]
  },
  {
   "cell_type": "code",
   "execution_count": null,
   "id": "429d4601-d087-4c2b-a368-d512e099b66d",
   "metadata": {},
   "outputs": [],
   "source": [
    "generated_prompts"
   ]
  },
  {
   "cell_type": "code",
   "execution_count": null,
   "id": "f842c297-729c-4716-b335-50fa0a609e21",
   "metadata": {},
   "outputs": [],
   "source": [
    "import json\n",
    "prompt_data = json.loads(generated_prompts)\n",
    "prompt_data"
   ]
  }
 ],
 "metadata": {
  "kernelspec": {
   "display_name": "Python 3 (ipykernel)",
   "language": "python",
   "name": "python3"
  },
  "language_info": {
   "codemirror_mode": {
    "name": "ipython",
    "version": 3
   },
   "file_extension": ".py",
   "mimetype": "text/x-python",
   "name": "python",
   "nbconvert_exporter": "python",
   "pygments_lexer": "ipython3",
   "version": "3.10.12"
  }
 },
 "nbformat": 4,
 "nbformat_minor": 5
}
